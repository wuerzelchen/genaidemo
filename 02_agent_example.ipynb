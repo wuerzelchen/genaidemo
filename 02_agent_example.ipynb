{
 "cells": [
  {
   "cell_type": "code",
   "execution_count": null,
   "metadata": {},
   "outputs": [],
   "source": [
    "%pip install --quiet --upgrade langchain-openai azure-identity"
   ]
  },
  {
   "cell_type": "code",
   "execution_count": 1,
   "metadata": {},
   "outputs": [],
   "source": [
    "from langchain_community.agent_toolkits import FileManagementToolkit\n",
    "from langchain.agents import AgentExecutor, create_tool_calling_agent\n",
    "from langchain_core.prompts import ChatPromptTemplate\n",
    "from azure.identity import DefaultAzureCredential\n",
    "from langchain_openai import AzureChatOpenAI\n",
    "\n",
    "import os\n",
    "\n",
    "\n",
    "# Get the Azure Credential make sure to assign yourself the role Cognitive Services OpenAI User\n",
    "credential = DefaultAzureCredential()\n",
    "\n",
    "# Set the API type to `azure_ad`\n",
    "os.environ[\"OPENAI_API_TYPE\"] = \"azure_ad\"\n",
    "# Set the API_KEY to the token from the Azure credential\n",
    "os.environ[\"OPENAI_API_KEY\"] = credential.get_token(\"https://cognitiveservices.azure.com/.default\").token\n",
    "os.environ[\"OPENAI_API_VERSION\"] = \"2023-12-01-preview\"\n",
    "os.environ[\"AZURE_OPENAI_ENDPOINT\"] = \"https://aoaise.openai.azure.com/\"\n",
    "\n",
    "llm = AzureChatOpenAI(\n",
    "    deployment_name=\"gpt35turbo16\"\n",
    ")"
   ]
  },
  {
   "cell_type": "code",
   "execution_count": 2,
   "metadata": {},
   "outputs": [
    {
     "data": {
      "text/plain": [
       "AIMessage(content=\"Sure, here's a classic one:\\n\\nWhy don't scientists trust atoms?\\n\\nBecause they make up everything!\", response_metadata={'token_usage': {'completion_tokens': 21, 'prompt_tokens': 11, 'total_tokens': 32}, 'model_name': 'gpt-35-turbo-16k', 'system_fingerprint': None, 'prompt_filter_results': [{'prompt_index': 0, 'content_filter_results': {'hate': {'filtered': False, 'severity': 'safe'}, 'self_harm': {'filtered': False, 'severity': 'safe'}, 'sexual': {'filtered': False, 'severity': 'safe'}, 'violence': {'filtered': False, 'severity': 'safe'}}}], 'finish_reason': 'stop', 'logprobs': None, 'content_filter_results': {'hate': {'filtered': False, 'severity': 'safe'}, 'self_harm': {'filtered': False, 'severity': 'safe'}, 'sexual': {'filtered': False, 'severity': 'safe'}, 'violence': {'filtered': False, 'severity': 'safe'}}}, id='run-83df2cb9-387b-47ca-a00a-8105c32f7435-0')"
      ]
     },
     "execution_count": 2,
     "metadata": {},
     "output_type": "execute_result"
    }
   ],
   "source": [
    "# Run the LLM\n",
    "llm.invoke(\"Tell me a joke\")"
   ]
  },
  {
   "cell_type": "code",
   "execution_count": 3,
   "metadata": {},
   "outputs": [],
   "source": [
    "tool = FileManagementToolkit(\n",
    "    root_dir=str(\"/home/wuerzelchen/Dev/Workshops/Ai\"),\n",
    "    selected_tools=[\"read_file\", \"write_file\", \"list_directory\"],\n",
    ")  # If you don't provide a root_dir, operations will default to the current working directory\n",
    "tools = tool.get_tools()\n"
   ]
  },
  {
   "cell_type": "code",
   "execution_count": 4,
   "metadata": {},
   "outputs": [],
   "source": [
    "prompt = ChatPromptTemplate.from_messages(\n",
    "    [\n",
    "        (\n",
    "            \"system\",\n",
    "            \"You are a helpful assistant. Make sure to use the filemanagement tool for information.\",\n",
    "        ),\n",
    "        (\"placeholder\", \"{chat_history}\"),\n",
    "        (\"human\", \"{input}\"),\n",
    "        (\"placeholder\", \"{agent_scratchpad}\"),\n",
    "    ]\n",
    ")\n",
    "\n",
    "# Construct the Tools agent\n",
    "agent = create_tool_calling_agent(llm, tools, prompt)"
   ]
  },
  {
   "cell_type": "code",
   "execution_count": 5,
   "metadata": {},
   "outputs": [
    {
     "name": "stdout",
     "output_type": "stream",
     "text": [
      "\n",
      "\n",
      "\u001b[1m> Entering new AgentExecutor chain...\u001b[0m\n",
      "\u001b[32;1m\u001b[1;3m\n",
      "Invoking: `list_directory` with `{}`\n",
      "\n",
      "\n",
      "\u001b[0m\u001b[38;5;200m\u001b[1;3mexample.txt\n",
      "04_acs-lc-python.ipynb\n",
      "02_agent_example.ipynb\n",
      "01_tool_example.ipynb\n",
      "requirements.txt\n",
      "movies.csv\n",
      "03_custom_tool_example.ipynb\n",
      ".env\u001b[0m\u001b[32;1m\u001b[1;3mThe files in your folder are:\n",
      "\n",
      "1. example.txt\n",
      "2. 04_acs-lc-python.ipynb\n",
      "3. 02_agent_example.ipynb\n",
      "4. 01_tool_example.ipynb\n",
      "5. requirements.txt\n",
      "6. movies.csv\n",
      "7. 03_custom_tool_example.ipynb\n",
      "8. .env\u001b[0m\n",
      "\n",
      "\u001b[1m> Finished chain.\u001b[0m\n"
     ]
    },
    {
     "data": {
      "text/plain": [
       "{'input': 'what files are in my folder?',\n",
       " 'output': 'The files in your folder are:\\n\\n1. example.txt\\n2. 04_acs-lc-python.ipynb\\n3. 02_agent_example.ipynb\\n4. 01_tool_example.ipynb\\n5. requirements.txt\\n6. movies.csv\\n7. 03_custom_tool_example.ipynb\\n8. .env'}"
      ]
     },
     "execution_count": 5,
     "metadata": {},
     "output_type": "execute_result"
    }
   ],
   "source": [
    "# Create an agent executor by passing in the agent and tools\n",
    "agent_executor = AgentExecutor(agent=agent, tools=tools, verbose=True)\n",
    "agent_executor.invoke({\"input\": \"what files are in my folder?\"})"
   ]
  },
  {
   "cell_type": "code",
   "execution_count": 7,
   "metadata": {},
   "outputs": [
    {
     "name": "stdout",
     "output_type": "stream",
     "text": [
      "\n",
      "\n",
      "\u001b[1m> Entering new AgentExecutor chain...\u001b[0m\n",
      "\u001b[32;1m\u001b[1;3m\n",
      "Invoking: `list_directory` with `{'dir_path': '.'}`\n",
      "\n",
      "\n",
      "\u001b[0m\u001b[38;5;200m\u001b[1;3mREADME.md\n",
      "example.txt\n",
      "04_acs-lc-python.ipynb\n",
      "02_agent_example.ipynb\n",
      "01_tool_example.ipynb\n",
      "requirements.txt\n",
      "movies.csv\n",
      "03_custom_tool_example.ipynb\n",
      ".env\u001b[0m\u001b[32;1m\u001b[1;3m\n",
      "Invoking: `read_file` with `{'file_path': 'README.md'}`\n",
      "\n",
      "\n",
      "\u001b[0m\u001b[36;1m\u001b[1;3m# Welcome to Langchain\n",
      "\n",
      "This README.md file includes some basic information about the tools and agents from Langchain.\n",
      "\n",
      "## Tools\n",
      "\n",
      "Langchain provides a set of tools that can be used to perform various tasks. These tools are designed to simplify the development and execution of blockchain applications.\n",
      "\n",
      "## Agents\n",
      "\n",
      "Langchain also includes a collection of agents that can be used to interact with blockchain networks. These agents provide a high-level interface for performing common operations such as querying the blockchain, creating transactions, and managing identities.\n",
      "\u001b[0m\u001b[32;1m\u001b[1;3m\n",
      "Invoking: `write_file` with `{'file_path': 'README.md', 'text': '# Welcome to Langchain\\n\\nThis README.md file includes some basic information about the tools and agents from Langchain.\\n\\n## Tools\\n\\nLangchain provides a set of tools that can be used to perform various tasks. These tools are designed to simplify the development and execution of blockchain applications.\\n\\n## Agents\\n\\nLangchain also includes a collection of agents that can be used to interact with blockchain networks. These agents provide a high-level interface for performing common operations such as querying the blockchain, creating transactions, and managing identities.\\n\\n\\nAuthor: wolflad@microsoft.com\\n'}`\n",
      "\n",
      "\n",
      "\u001b[0m\u001b[33;1m\u001b[1;3mFile written successfully to README.md.\u001b[0m\u001b[32;1m\u001b[1;3m\n",
      "Invoking: `read_file` with `{'file_path': 'README.md'}`\n",
      "\n",
      "\n",
      "\u001b[0m\u001b[36;1m\u001b[1;3m# Welcome to Langchain\n",
      "\n",
      "This README.md file includes some basic information about the tools and agents from Langchain.\n",
      "\n",
      "## Tools\n",
      "\n",
      "Langchain provides a set of tools that can be used to perform various tasks. These tools are designed to simplify the development and execution of blockchain applications.\n",
      "\n",
      "## Agents\n",
      "\n",
      "Langchain also includes a collection of agents that can be used to interact with blockchain networks. These agents provide a high-level interface for performing common operations such as querying the blockchain, creating transactions, and managing identities.\n",
      "\n",
      "\n",
      "Author: wolflad@microsoft.com\n",
      "\u001b[0m\u001b[32;1m\u001b[1;3mThe README.md file has been created and updated with the author information. You can find it [here](sandbox:/README.md).\u001b[0m\n",
      "\n",
      "\u001b[1m> Finished chain.\u001b[0m\n"
     ]
    },
    {
     "data": {
      "text/plain": [
       "{'input': 'does README.md exist? it should include a title which welcomes the user and some basic information about tools and agents from langchain. Can you create it for me? If it already exists, please update it with the author if there is no info about the author, the author is wolflad@microsoft.com.',\n",
       " 'output': 'The README.md file has been created and updated with the author information. You can find it [here](sandbox:/README.md).'}"
      ]
     },
     "execution_count": 7,
     "metadata": {},
     "output_type": "execute_result"
    }
   ],
   "source": [
    "agent_executor.invoke({\"input\": \"does README.md exist? it should include a title which welcomes the user and some basic information about tools and agents from langchain. Can you create it for me? If it already exists, please update it with the author if there is no info about the author, the author is wolflad@microsoft.com.\"})"
   ]
  }
 ],
 "metadata": {
  "kernelspec": {
   "display_name": "hugoboss",
   "language": "python",
   "name": "python3"
  },
  "language_info": {
   "codemirror_mode": {
    "name": "ipython",
    "version": 3
   },
   "file_extension": ".py",
   "mimetype": "text/x-python",
   "name": "python",
   "nbconvert_exporter": "python",
   "pygments_lexer": "ipython3",
   "version": "3.12.3"
  }
 },
 "nbformat": 4,
 "nbformat_minor": 2
}
